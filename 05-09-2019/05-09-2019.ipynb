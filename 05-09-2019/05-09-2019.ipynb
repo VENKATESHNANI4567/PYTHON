{
 "cells": [
  {
   "cell_type": "markdown",
   "metadata": {},
   "source": [
    "## sample program"
   ]
  },
  {
   "cell_type": "code",
   "execution_count": 1,
   "metadata": {},
   "outputs": [
    {
     "name": "stdout",
     "output_type": "stream",
     "text": [
      "welcome to mstp\n"
     ]
    }
   ],
   "source": [
    "print(\"welcome to mstp\")"
   ]
  },
  {
   "cell_type": "code",
   "execution_count": 3,
   "metadata": {},
   "outputs": [
    {
     "name": "stdout",
     "output_type": "stream",
     "text": [
      "enter a namevenkatesh\n",
      "venkatesh\n"
     ]
    }
   ],
   "source": [
    "n=input(\"enter a name\")\n",
    "print(n)"
   ]
  },
  {
   "cell_type": "code",
   "execution_count": 6,
   "metadata": {},
   "outputs": [
    {
     "name": "stdout",
     "output_type": "stream",
     "text": [
      "30\n"
     ]
    }
   ],
   "source": [
    "a=10\n",
    "b=20\n",
    "c=a+b\n",
    "print(c)"
   ]
  },
  {
   "cell_type": "code",
   "execution_count": 5,
   "metadata": {},
   "outputs": [
    {
     "name": "stdout",
     "output_type": "stream",
     "text": [
      "50\n"
     ]
    }
   ],
   "source": [
    "a=100\n",
    "b=50\n",
    "c=a-b\n",
    "print(c)"
   ]
  },
  {
   "cell_type": "markdown",
   "metadata": {},
   "source": [
    "# to print adding of two numbers by using user input"
   ]
  },
  {
   "cell_type": "code",
   "execution_count": 7,
   "metadata": {},
   "outputs": [
    {
     "name": "stdout",
     "output_type": "stream",
     "text": [
      "enter a number10\n",
      "enter b number20\n",
      "30\n"
     ]
    }
   ],
   "source": [
    "input(\"enter a number\")\n",
    "input(\"enter b number\")\n",
    "c=a+b\n",
    "print(c)"
   ]
  },
  {
   "cell_type": "markdown",
   "metadata": {},
   "source": [
    "# to print multiplication of two numbers\n"
   ]
  },
  {
   "cell_type": "code",
   "execution_count": 10,
   "metadata": {},
   "outputs": [
    {
     "name": "stdout",
     "output_type": "stream",
     "text": [
      "enter a number10\n",
      "enter b number20\n",
      "200\n"
     ]
    }
   ],
   "source": [
    "input(\"enter a number\")\n",
    "input(\"enter b number\")\n",
    "c=a*b\n",
    "print(c)"
   ]
  },
  {
   "cell_type": "markdown",
   "metadata": {},
   "source": [
    "# finding greater or equal"
   ]
  },
  {
   "cell_type": "code",
   "execution_count": 19,
   "metadata": {},
   "outputs": [
    {
     "name": "stdout",
     "output_type": "stream",
     "text": [
      "enter a value20\n",
      "enter b value30\n",
      "b is greater\n"
     ]
    }
   ],
   "source": [
    "a=int(input(\"enter a value\"))\n",
    "b=int(input(\"enter b value\"))\n",
    "if a==b:\n",
    "    print(\"both are equal\")\n",
    "elif a>b:\n",
    "    print(\"a is greater\")\n",
    "else:\n",
    "    print(\"b is greater\")\n",
    "    "
   ]
  },
  {
   "cell_type": "markdown",
   "metadata": {},
   "source": [
    "# printing calender"
   ]
  },
  {
   "cell_type": "code",
   "execution_count": 22,
   "metadata": {},
   "outputs": [
    {
     "name": "stdout",
     "output_type": "stream",
     "text": [
      "   September 2019\n",
      "Mo Tu We Th Fr Sa Su\n",
      "                   1\n",
      " 2  3  4  5  6  7  8\n",
      " 9 10 11 12 13 14 15\n",
      "16 17 18 19 20 21 22\n",
      "23 24 25 26 27 28 29\n",
      "30\n",
      "\n"
     ]
    }
   ],
   "source": [
    "import calendar\n",
    "year=2019\n",
    "month=9\n",
    "c=calendar.month(year,month)\n",
    "print(c)"
   ]
  },
  {
   "cell_type": "markdown",
   "metadata": {},
   "source": [
    "# example 1"
   ]
  },
  {
   "cell_type": "code",
   "execution_count": 24,
   "metadata": {},
   "outputs": [
    {
     "name": "stdout",
     "output_type": "stream",
     "text": [
      "    August 2019\n",
      "Mo Tu We Th Fr Sa Su\n",
      "          1  2  3  4\n",
      " 5  6  7  8  9 10 11\n",
      "12 13 14 15 16 17 18\n",
      "19 20 21 22 23 24 25\n",
      "26 27 28 29 30 31\n",
      "\n"
     ]
    }
   ],
   "source": [
    "import calendar\n",
    "year=2019\n",
    "month=8\n",
    "c=calendar.month(year,month)\n",
    "print(c)"
   ]
  },
  {
   "cell_type": "markdown",
   "metadata": {},
   "source": [
    "# example 2"
   ]
  },
  {
   "cell_type": "code",
   "execution_count": 3,
   "metadata": {},
   "outputs": [
    {
     "name": "stdout",
     "output_type": "stream",
     "text": [
      "      May 2019\n",
      "Mo Tu We Th Fr Sa Su\n",
      "       1  2  3  4  5\n",
      " 6  7  8  9 10 11 12\n",
      "13 14 15 16 17 18 19\n",
      "20 21 22 23 24 25 26\n",
      "27 28 29 30 31\n",
      "\n"
     ]
    }
   ],
   "source": [
    "import calendar\n",
    "year=2019\n",
    "month=5\n",
    "c=calendar.month(year,month)\n",
    "print(c)"
   ]
  },
  {
   "cell_type": "markdown",
   "metadata": {},
   "source": [
    "# to print calender by giving values in run time "
   ]
  },
  {
   "cell_type": "code",
   "execution_count": 6,
   "metadata": {},
   "outputs": [
    {
     "name": "stdout",
     "output_type": "stream",
     "text": [
      "enter year2019\n",
      "enter month8\n",
      "    August 2019\n",
      "Mo Tu We Th Fr Sa Su\n",
      "          1  2  3  4\n",
      " 5  6  7  8  9 10 11\n",
      "12 13 14 15 16 17 18\n",
      "19 20 21 22 23 24 25\n",
      "26 27 28 29 30 31\n",
      "\n"
     ]
    }
   ],
   "source": [
    "import calendar\n",
    "a=int(input(\"enter year\"))\n",
    "b=int(input(\"enter month\"))\n",
    "c=calendar.month(a,b)\n",
    "print(c)"
   ]
  },
  {
   "cell_type": "markdown",
   "metadata": {},
   "source": [
    "# loops concept"
   ]
  },
  {
   "cell_type": "code",
   "execution_count": 10,
   "metadata": {},
   "outputs": [
    {
     "name": "stdout",
     "output_type": "stream",
     "text": [
      "0\n",
      "1\n",
      "2\n",
      "3\n",
      "4\n",
      "5\n",
      "6\n",
      "7\n",
      "8\n",
      "9\n",
      "10\n"
     ]
    }
   ],
   "source": [
    "for i in range(11):\n",
    "    print(i)"
   ]
  },
  {
   "cell_type": "code",
   "execution_count": 11,
   "metadata": {},
   "outputs": [
    {
     "name": "stdout",
     "output_type": "stream",
     "text": [
      "['venkat', 'venky'] ['mechanical', 'engineer']\n",
      "['venkat', 'venky'] ['mechanical', 'engineer']\n",
      "['venkat', 'venky'] ['mechanical', 'engineer']\n",
      "['venkat', 'venky'] ['mechanical', 'engineer']\n"
     ]
    }
   ],
   "source": [
    "x=[\"venkat\",\"venky\"]\n",
    "y=[\"mechanical\",\"engineer\"]\n",
    "for i in x:\n",
    "    for j in y:\n",
    "        print (x,y)"
   ]
  },
  {
   "cell_type": "markdown",
   "metadata": {},
   "source": [
    "# function concept"
   ]
  },
  {
   "cell_type": "code",
   "execution_count": 12,
   "metadata": {},
   "outputs": [
    {
     "data": {
      "text/plain": [
       "30"
      ]
     },
     "execution_count": 12,
     "metadata": {},
     "output_type": "execute_result"
    }
   ],
   "source": [
    "def add(x,y):\n",
    "    c=x+y\n",
    "    return c\n",
    "a=10\n",
    "b=20\n",
    "add(a,b)"
   ]
  },
  {
   "cell_type": "code",
   "execution_count": 13,
   "metadata": {},
   "outputs": [
    {
     "name": "stdout",
     "output_type": "stream",
     "text": [
      "enter a number20\n",
      "enter b number30\n"
     ]
    },
    {
     "data": {
      "text/plain": [
       "50"
      ]
     },
     "execution_count": 13,
     "metadata": {},
     "output_type": "execute_result"
    }
   ],
   "source": [
    "def add(x,y):\n",
    "    c=x+y\n",
    "    return c\n",
    "a=int(input(\"enter a number\"))\n",
    "b=int(input(\"enter b number\"))\n",
    "add(a,b)\n"
   ]
  },
  {
   "cell_type": "code",
   "execution_count": 14,
   "metadata": {},
   "outputs": [
    {
     "data": {
      "text/plain": [
       "600"
      ]
     },
     "execution_count": 14,
     "metadata": {},
     "output_type": "execute_result"
    }
   ],
   "source": [
    "def mul(x,y):\n",
    "    c=x*y\n",
    "    return c\n",
    "a=20\n",
    "b=30\n",
    "mul(a,b)"
   ]
  },
  {
   "cell_type": "code",
   "execution_count": 15,
   "metadata": {},
   "outputs": [
    {
     "data": {
      "text/plain": [
       "5.0"
      ]
     },
     "execution_count": 15,
     "metadata": {},
     "output_type": "execute_result"
    }
   ],
   "source": [
    "def div(x,y):\n",
    "    c=x/y\n",
    "    return c\n",
    "a=100\n",
    "b=20\n",
    "div(a,b)"
   ]
  },
  {
   "cell_type": "code",
   "execution_count": 35,
   "metadata": {},
   "outputs": [
    {
     "name": "stdout",
     "output_type": "stream",
     "text": [
      "enter x value200\n",
      "enter y value50\n",
      "250\n",
      "150\n",
      "10000\n",
      "4.0\n"
     ]
    }
   ],
   "source": [
    "def add(x,y):\n",
    "    c=x+y\n",
    "    return c\n",
    "def sub(x,y):\n",
    "    c=x-y\n",
    "    return c   \n",
    "def mul(x,y):\n",
    "    c=x*y\n",
    "    return c      \n",
    "def div(x,y):\n",
    "    c=x/y\n",
    "    return c\n",
    "x=int(input(\"enter x value\"))\n",
    "y=int(input(\"enter y value\"))\n",
    "print(add(x,y))\n",
    "print(sub(x,y))\n",
    "print(mul(x,y))\n",
    "print(div(x,y))\n",
    "        "
   ]
  },
  {
   "cell_type": "markdown",
   "metadata": {},
   "source": [
    "# printing tables"
   ]
  },
  {
   "cell_type": "code",
   "execution_count": 38,
   "metadata": {},
   "outputs": [
    {
     "name": "stdout",
     "output_type": "stream",
     "text": [
      "enter a table we want15\n",
      "the multiplication of given table is 15\n",
      "15 x 1 = 15\n",
      "15 x 2 = 30\n",
      "15 x 3 = 45\n",
      "15 x 4 = 60\n",
      "15 x 5 = 75\n",
      "15 x 6 = 90\n",
      "15 x 7 = 105\n",
      "15 x 8 = 120\n",
      "15 x 9 = 135\n",
      "15 x 10 = 150\n"
     ]
    }
   ],
   "source": [
    "num=int(input(\"enter a table we want\"))\n",
    "print(\"the multiplication of given table is\",num)\n",
    "for i in range(1,11):\n",
    "    print(num,\"x\",i,\"=\",num*i)"
   ]
  },
  {
   "cell_type": "markdown",
   "metadata": {},
   "source": [
    "# finding given number is even or odd"
   ]
  },
  {
   "cell_type": "code",
   "execution_count": 47,
   "metadata": {},
   "outputs": [
    {
     "name": "stdout",
     "output_type": "stream",
     "text": [
      "enter a num13\n",
      "the given number is odd\n"
     ]
    }
   ],
   "source": [
    "a=int(input(\"enter a num\"))\n",
    "if a%2==0:\n",
    "    print(\"the given number is even\")\n",
    "else:\n",
    "    print(\"the given number is odd\")"
   ]
  },
  {
   "cell_type": "code",
   "execution_count": null,
   "metadata": {},
   "outputs": [],
   "source": []
  }
 ],
 "metadata": {
  "kernelspec": {
   "display_name": "Python 3",
   "language": "python",
   "name": "python3"
  },
  "language_info": {
   "codemirror_mode": {
    "name": "ipython",
    "version": 3
   },
   "file_extension": ".py",
   "mimetype": "text/x-python",
   "name": "python",
   "nbconvert_exporter": "python",
   "pygments_lexer": "ipython3",
   "version": "3.7.3"
  }
 },
 "nbformat": 4,
 "nbformat_minor": 2
}
