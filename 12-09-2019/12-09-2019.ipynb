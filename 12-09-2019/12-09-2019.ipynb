{
 "cells": [
  {
   "cell_type": "markdown",
   "metadata": {},
   "source": [
    "# numbers which are divisible by 6 and not a factor of 100"
   ]
  },
  {
   "cell_type": "code",
   "execution_count": 8,
   "metadata": {},
   "outputs": [
    {
     "name": "stdout",
     "output_type": "stream",
     "text": [
      "enter a lb1\n",
      "enter a ub100\n",
      "6\n",
      "12\n",
      "18\n",
      "24\n",
      "30\n",
      "36\n",
      "42\n",
      "48\n",
      "54\n",
      "60\n",
      "66\n",
      "72\n",
      "78\n",
      "84\n",
      "90\n",
      "96\n"
     ]
    }
   ],
   "source": [
    "lb = int(input(\"enter a lb\"))\n",
    "ub = int(input(\"enter a ub\"))\n",
    "\n",
    "def findfact(a):\n",
    "    if a%6==0 and 100%a!=0:\n",
    "        print(a)\n",
    "for i in range(lb,ub+1):\n",
    "    findfact(i)\n",
    "\n",
    "\n"
   ]
  },
  {
   "cell_type": "markdown",
   "metadata": {},
   "source": [
    "# finding factors of a given number"
   ]
  },
  {
   "cell_type": "code",
   "execution_count": 15,
   "metadata": {},
   "outputs": [
    {
     "name": "stdout",
     "output_type": "stream",
     "text": [
      "enter a number6\n",
      "1\n",
      "2\n",
      "3\n",
      "6\n"
     ]
    }
   ],
   "source": [
    "v=int(input(\"enter a number\"))\n",
    "def fact(x):\n",
    "    for i in range(1,v+1):\n",
    "        if v%i==0:\n",
    "            print(i)\n",
    "fact(v)\n",
    "        \n"
   ]
  },
  {
   "cell_type": "markdown",
   "metadata": {},
   "source": [
    "# average of a given number in range \n"
   ]
  },
  {
   "cell_type": "code",
   "execution_count": 7,
   "metadata": {},
   "outputs": [
    {
     "name": "stdout",
     "output_type": "stream",
     "text": [
      "enter a lb2\n",
      "enter a ub4\n",
      "36\n"
     ]
    }
   ],
   "source": [
    "lb=int(input(\"enter a lb\"))\n",
    "ub=int(input(\"enter a ub\"))\n",
    "def avgcubes(x,y):\n",
    "    t=0\n",
    "    j=0\n",
    "    for i in range(lb,ub+1):\n",
    "        if i%2==0:\n",
    "            t=t+(i**3)\n",
    "            j=j+1\n",
    "    print(t//j)\n",
    "avgcubes(lb,ub)"
   ]
  },
  {
   "cell_type": "markdown",
   "metadata": {},
   "source": [
    "# concept of dictoinarys"
   ]
  },
  {
   "cell_type": "code",
   "execution_count": 8,
   "metadata": {},
   "outputs": [
    {
     "data": {
      "text/plain": [
       "['__class__',\n",
       " '__contains__',\n",
       " '__delattr__',\n",
       " '__delitem__',\n",
       " '__dir__',\n",
       " '__doc__',\n",
       " '__eq__',\n",
       " '__format__',\n",
       " '__ge__',\n",
       " '__getattribute__',\n",
       " '__getitem__',\n",
       " '__gt__',\n",
       " '__hash__',\n",
       " '__init__',\n",
       " '__init_subclass__',\n",
       " '__iter__',\n",
       " '__le__',\n",
       " '__len__',\n",
       " '__lt__',\n",
       " '__ne__',\n",
       " '__new__',\n",
       " '__reduce__',\n",
       " '__reduce_ex__',\n",
       " '__repr__',\n",
       " '__setattr__',\n",
       " '__setitem__',\n",
       " '__sizeof__',\n",
       " '__str__',\n",
       " '__subclasshook__',\n",
       " 'clear',\n",
       " 'copy',\n",
       " 'fromkeys',\n",
       " 'get',\n",
       " 'items',\n",
       " 'keys',\n",
       " 'pop',\n",
       " 'popitem',\n",
       " 'setdefault',\n",
       " 'update',\n",
       " 'values']"
      ]
     },
     "execution_count": 8,
     "metadata": {},
     "output_type": "execute_result"
    }
   ],
   "source": [
    "dir(dict)"
   ]
  },
  {
   "cell_type": "code",
   "execution_count": 1,
   "metadata": {},
   "outputs": [
    {
     "name": "stdout",
     "output_type": "stream",
     "text": [
      "{'a': 65, 'c': 85, 'f': 36, 'd': 72, 'e': 91}\n"
     ]
    }
   ],
   "source": [
    "d={\"a\":65, \"c\":85, \"f\":36, \"d\":72, \"e\":91}\n",
    "print(d)\n"
   ]
  },
  {
   "cell_type": "code",
   "execution_count": 5,
   "metadata": {},
   "outputs": [
    {
     "data": {
      "text/plain": [
       "{'a': 65, 'c': 85, 'f': 36, 'd': 72, 'e': 91}"
      ]
     },
     "execution_count": 5,
     "metadata": {},
     "output_type": "execute_result"
    }
   ],
   "source": [
    "d={\"a\":65, \"c\":85, \"f\":36, \"d\":72, \"e\":91}\n",
    "t=d.copy()\n",
    "t.pop(\"c\")\n",
    "d"
   ]
  },
  {
   "cell_type": "code",
   "execution_count": 6,
   "metadata": {},
   "outputs": [
    {
     "data": {
      "text/plain": [
       "dict_values([65, 85, 36, 72, 91])"
      ]
     },
     "execution_count": 6,
     "metadata": {},
     "output_type": "execute_result"
    }
   ],
   "source": [
    "d={\"a\":65, \"c\":85, \"f\":36, \"d\":72, \"e\":91}\n",
    "d.values()"
   ]
  },
  {
   "cell_type": "code",
   "execution_count": 10,
   "metadata": {},
   "outputs": [
    {
     "name": "stdout",
     "output_type": "stream",
     "text": [
      "a\n",
      "c\n",
      "f\n",
      "d\n",
      "e\n"
     ]
    }
   ],
   "source": [
    "d={\"a\":65, \"c\":85, \"f\":36, \"d\":72, \"e\":91}\n",
    "for i in d:\n",
    "    print(i)"
   ]
  },
  {
   "cell_type": "code",
   "execution_count": 11,
   "metadata": {},
   "outputs": [
    {
     "data": {
      "text/plain": [
       "dict_keys(['a', 'c', 'f', 'd', 'e'])"
      ]
     },
     "execution_count": 11,
     "metadata": {},
     "output_type": "execute_result"
    }
   ],
   "source": [
    "d={\"a\":65, \"c\":85, \"f\":36, \"d\":72, \"e\":91}\n",
    "d.keys()"
   ]
  },
  {
   "cell_type": "code",
   "execution_count": 14,
   "metadata": {},
   "outputs": [
    {
     "name": "stdout",
     "output_type": "stream",
     "text": [
      "65\n",
      "85\n",
      "36\n",
      "72\n",
      "91\n"
     ]
    }
   ],
   "source": [
    "d={\"a\":65, \"c\":85, \"f\":36, \"d\":72, \"e\":91}\n",
    "for i in d.values():\n",
    "    print(i)"
   ]
  },
  {
   "cell_type": "code",
   "execution_count": 21,
   "metadata": {},
   "outputs": [
    {
     "data": {
      "text/plain": [
       "dict_values([65, 85, 36, 72, 91])"
      ]
     },
     "execution_count": 21,
     "metadata": {},
     "output_type": "execute_result"
    }
   ],
   "source": [
    "d={\"a\":65, \"c\":85, \"f\":36, \"d\":72, \"e\":91}\n",
    "d.values()\n",
    "    "
   ]
  },
  {
   "cell_type": "code",
   "execution_count": 23,
   "metadata": {},
   "outputs": [
    {
     "name": "stdout",
     "output_type": "stream",
     "text": [
      "a\n",
      "c\n",
      "f\n",
      "d\n",
      "e\n"
     ]
    }
   ],
   "source": [
    "d={\"a\":65, \"c\":85, \"f\":36, \"d\":72, \"e\":91}\n",
    "for i in d.keys():\n",
    "    print(i)"
   ]
  },
  {
   "cell_type": "code",
   "execution_count": 30,
   "metadata": {},
   "outputs": [
    {
     "name": "stdout",
     "output_type": "stream",
     "text": [
      "e 91 top\n",
      "c 85 top\n",
      "d 72 top\n"
     ]
    }
   ],
   "source": [
    "d={\"a\":65, \"c\":85, \"f\":36, \"d\":72, \"e\":91}\n",
    "t=d.copy()\n",
    "j=1\n",
    "while j<=3:\n",
    "    m=max(t.values())\n",
    "    for i in d:\n",
    "        if d[i]==m:\n",
    "            print(i,d[i],\"top\")\n",
    "            t.pop(i)\n",
    "    j=j+1\n",
    "            "
   ]
  },
  {
   "cell_type": "code",
   "execution_count": null,
   "metadata": {},
   "outputs": [],
   "source": []
  }
 ],
 "metadata": {
  "kernelspec": {
   "display_name": "Python 3",
   "language": "python",
   "name": "python3"
  },
  "language_info": {
   "codemirror_mode": {
    "name": "ipython",
    "version": 3
   },
   "file_extension": ".py",
   "mimetype": "text/x-python",
   "name": "python",
   "nbconvert_exporter": "python",
   "pygments_lexer": "ipython3",
   "version": "3.7.3"
  }
 },
 "nbformat": 4,
 "nbformat_minor": 2
}
