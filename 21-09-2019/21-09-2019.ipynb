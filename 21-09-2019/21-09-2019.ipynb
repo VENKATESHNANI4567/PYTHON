{
 "cells": [
  {
   "cell_type": "markdown",
   "metadata": {},
   "source": [
    "# finding length of file"
   ]
  },
  {
   "cell_type": "code",
   "execution_count": 26,
   "metadata": {},
   "outputs": [],
   "source": [
    "filepath=\"./files/example.txt\"\n",
    "with open(filepath,'w') as f:\n",
    "    f.write(\"Nani (born as Naveen Babu Ghanta on 24 February 1984 is an Indian film actor, producer, media personality\\n\"\n",
    "            \" and television presenter known for his work in Telugu cinema.\\n\" \"He was an assistant director and worked with Srinu Vaitla and Bapu,[2] before working as an RJ for World Space Satellite in Hyderabad.[3]\\n\"\n",
    "\"Nani made his film debut in 2008 with the hit romantic comedy Ashta Chamma.\\n\" \"He then started in commercially successful films such as Ride (2009), Bheemili Kabaddi Jattu (2010),\\n\" \"Ala Modalaindi (2011), Pilla Zamindar (2011),\\n Eega (2012), Yeto Vellipoyindhi Manasu (2012), Yevade Subramanyam (2015), Bhale Bhale Magadivoy (2015),Majnu (2016), Krishna Gaadi Veera Prema Gaadha (2016), Gentleman (2016), Nenu Local (2017), Ninnu Kori (2017), Middle Class Abbayi (2017), and Jersey (2019), some of which rank among the highest-grossing Telugu films.\")          "
   ]
  },
  {
   "cell_type": "code",
   "execution_count": 27,
   "metadata": {},
   "outputs": [
    {
     "name": "stdout",
     "output_type": "stream",
     "text": [
      "7 lines\n",
      "130 words\n",
      "851 characters\n"
     ]
    }
   ],
   "source": [
    "filepath=\"./files/example.txt\"\n",
    "with open(filepath,'r') as g:\n",
    "     lines=g.readlines()\n",
    "print(len(lines),\"lines\")\n",
    "with open(filepath,'r') as h:\n",
    "    e=h.read()\n",
    "    a=e.split()\n",
    "    print(len(a),\"words\")\n",
    "with open(filepath,'r') as i:\n",
    "    k=i.read()\n",
    "    b=print(len(k),\"characters\")"
   ]
  },
  {
   "cell_type": "code",
   "execution_count": 19,
   "metadata": {},
   "outputs": [
    {
     "name": "stdout",
     "output_type": "stream",
     "text": [
      "12\n"
     ]
    }
   ],
   "source": [
    "filepath=\"./files/example.txt\"\n",
    "with open(filepath,'r') as h:\n",
    "    e=h.read()\n",
    "    a=e.split()\n",
    "    print(len(a),\"words\")"
   ]
  },
  {
   "cell_type": "markdown",
   "metadata": {},
   "source": [
    "# finding time interval"
   ]
  },
  {
   "cell_type": "code",
   "execution_count": 1,
   "metadata": {},
   "outputs": [
    {
     "name": "stdout",
     "output_type": "stream",
     "text": [
      "number of test cases1\n",
      "enter time [SH SM EH EM]1 44 2 14\n",
      "[1, 30]\n"
     ]
    }
   ],
   "source": [
    "N=int(input(\"number of test cases\"))\n",
    "for i in range (0,N):\n",
    "    n=(input(\"enter time [SH SM EH EM]\"))\n",
    "    s=n.split()\n",
    "    SH=int(s[0])\n",
    "    SM=int(s[1])\n",
    "    EH=int(s[2])\n",
    "    EM=int(s[3])\n",
    "    F=abs(EH-SH)\n",
    "    S=abs(EM-SM)\n",
    "    R=[F,S]\n",
    "    print(R)"
   ]
  },
  {
   "cell_type": "code",
   "execution_count": 14,
   "metadata": {},
   "outputs": [],
   "source": [
    "filepath=\"./files/sample1.txt\"\n",
    "f=open(filepath,'w')\n",
    "f.write(\"venkatesh\")\n",
    "f.close()\n",
    "filepath=\"./files/sample2.txt\"\n",
    "f=open(filepath,'w')\n",
    "f.write(\"i am fine\")\n",
    "f.close()\n"
   ]
  },
  {
   "cell_type": "code",
   "execution_count": null,
   "metadata": {},
   "outputs": [],
   "source": []
  }
 ],
 "metadata": {
  "kernelspec": {
   "display_name": "Python 3",
   "language": "python",
   "name": "python3"
  },
  "language_info": {
   "codemirror_mode": {
    "name": "ipython",
    "version": 3
   },
   "file_extension": ".py",
   "mimetype": "text/x-python",
   "name": "python",
   "nbconvert_exporter": "python",
   "pygments_lexer": "ipython3",
   "version": "3.7.3"
  }
 },
 "nbformat": 4,
 "nbformat_minor": 2
}
