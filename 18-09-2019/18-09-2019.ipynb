{
 "cells": [
  {
   "cell_type": "markdown",
   "metadata": {},
   "source": [
    "# seven sigment program in python"
   ]
  },
  {
   "cell_type": "code",
   "execution_count": 1,
   "metadata": {},
   "outputs": [
    {
     "name": "stdout",
     "output_type": "stream",
     "text": [
      "123\n",
      "12\n"
     ]
    }
   ],
   "source": [
    "d={0:6,1:2,2:5,3:5,4:4,5:5,6:6,7:3,8:7,9:6}\n",
    "n=input()\n",
    "c=0\n",
    "for i in n:\n",
    "    c=c+d[int(i)]\n",
    "print(c)"
   ]
  },
  {
   "cell_type": "code",
   "execution_count": 18,
   "metadata": {},
   "outputs": [
    {
     "name": "stdout",
     "output_type": "stream",
     "text": [
      "enter no of coordinatesrrrrrr\n",
      "6 0\n"
     ]
    }
   ],
   "source": [
    "c= input(\"enter no of coordinates\")\n",
    "l=-1\n",
    "r=1\n",
    "d=-1\n",
    "u=1\n",
    "x=0\n",
    "y=0\n",
    "for i in c:\n",
    "    if i=='l':\n",
    "        x=x+l\n",
    "    elif i=='r':\n",
    "        x=x+r\n",
    "    elif i=='d':\n",
    "        y=y+d\n",
    "    elif i=='u':\n",
    "        y=y+u  \n",
    "print(x,y)\n",
    "            \n",
    "            \n",
    "       "
   ]
  },
  {
   "cell_type": "markdown",
   "metadata": {},
   "source": [
    "# files concept"
   ]
  },
  {
   "cell_type": "code",
   "execution_count": 22,
   "metadata": {},
   "outputs": [],
   "source": [
    "filepath=\"./files/venkat.txt\"\n",
    "with open(filepath,'w') as f:\n",
    "    f.write(\"this is my computer..and my laptop\")"
   ]
  },
  {
   "cell_type": "code",
   "execution_count": null,
   "metadata": {},
   "outputs": [],
   "source": []
  }
 ],
 "metadata": {
  "kernelspec": {
   "display_name": "Python 3",
   "language": "python",
   "name": "python3"
  },
  "language_info": {
   "codemirror_mode": {
    "name": "ipython",
    "version": 3
   },
   "file_extension": ".py",
   "mimetype": "text/x-python",
   "name": "python",
   "nbconvert_exporter": "python",
   "pygments_lexer": "ipython3",
   "version": "3.7.3"
  }
 },
 "nbformat": 4,
 "nbformat_minor": 2
}
